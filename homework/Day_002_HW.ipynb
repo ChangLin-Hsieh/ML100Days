{
 "cells": [
  {
   "cell_type": "markdown",
   "metadata": {},
   "source": [
    "在醫學領域可以使用Machine Learning監督式學習分析。目前醫學因健保，在國界算是領先，健保有大量的病例，加上台灣醫生需看大量的病人，Machine Learning 可以事先做些分析，做為醫生輔助。例如X光片結果，應該有大量的X光和病例數據，可以先Training數據，並每次將X光結果先透過Machine Learning 判斷，如錯誤再回報給數據，一直反覆增加準確率"
   ]
  }
 ],
 "metadata": {
  "kernelspec": {
   "display_name": "Python 3",
   "language": "python",
   "name": "python3"
  },
  "language_info": {
   "codemirror_mode": {
    "name": "ipython",
    "version": 3
   },
   "file_extension": ".py",
   "mimetype": "text/x-python",
   "name": "python",
   "nbconvert_exporter": "python",
   "pygments_lexer": "ipython3",
   "version": "3.8.5"
  }
 },
 "nbformat": 4,
 "nbformat_minor": 4
}
